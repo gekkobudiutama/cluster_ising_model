{
  "nbformat": 4,
  "nbformat_minor": 0,
  "metadata": {
    "colab": {
      "provenance": []
    },
    "kernelspec": {
      "name": "python3",
      "display_name": "Python 3"
    },
    "language_info": {
      "name": "python"
    }
  },
  "cells": [
    {
      "cell_type": "code",
      "execution_count": null,
      "metadata": {
        "colab": {
          "base_uri": "https://localhost:8080/"
        },
        "id": "0WMtTqtEoRDl",
        "outputId": "f54f5adf-ece6-4e48-b573-f2c7a6303e3e"
      },
      "outputs": [
        {
          "output_type": "stream",
          "name": "stdout",
          "text": [
            "⏬ Downloading https://github.com/conda-forge/miniforge/releases/download/23.1.0-1/Mambaforge-23.1.0-1-Linux-x86_64.sh...\n",
            "📦 Installing...\n",
            "📌 Adjusting configuration...\n",
            "🩹 Patching environment...\n",
            "⏲ Done in 0:00:16\n",
            "🔁 Restarting kernel...\n",
            "Collecting package metadata (current_repodata.json): ...working... done\n",
            "Solving environment: ...working... done\n",
            "\n",
            "## Package Plan ##\n",
            "\n",
            "  environment location: /usr/local\n",
            "\n",
            "  added / updated specs:\n",
            "    - quspin\n",
            "\n",
            "\n",
            "The following packages will be downloaded:\n",
            "\n",
            "    package                    |            build\n",
            "    ---------------------------|-----------------\n",
            "    ca-certificates-2023.5.7   |       hbcca054_0         145 KB  conda-forge\n",
            "    certifi-2023.5.7           |     pyhd8ed1ab_0         149 KB  conda-forge\n",
            "    cudatoolkit-11.8.0         |      h37601d7_11       635.9 MB  conda-forge\n",
            "    dill-0.3.6                 |     pyhd8ed1ab_1          81 KB  conda-forge\n",
            "    gmp-6.2.1                  |       h58526e2_0         806 KB  conda-forge\n",
            "    gmpy2-2.1.2                |  py310h3ec546c_1         215 KB  conda-forge\n",
            "    joblib-1.3.0               |     pyhd8ed1ab_1         216 KB  conda-forge\n",
            "    libblas-3.9.0              |17_linux64_openblas          14 KB  conda-forge\n",
            "    libcblas-3.9.0             |17_linux64_openblas          14 KB  conda-forge\n",
            "    libgfortran-ng-13.1.0      |       h69a702a_0          23 KB  conda-forge\n",
            "    libgfortran5-13.1.0        |       h15d22d2_0         1.4 MB  conda-forge\n",
            "    liblapack-3.9.0            |17_linux64_openblas          14 KB  conda-forge\n",
            "    libllvm14-14.0.6           |       hcd5def8_3        29.9 MB  conda-forge\n",
            "    libopenblas-0.3.23         |pthreads_h80387f5_0         5.2 MB  conda-forge\n",
            "    llvmlite-0.40.1            |  py310h1b8f574_0         2.4 MB  conda-forge\n",
            "    mpc-1.3.1                  |       hfe3b2da_0         114 KB  conda-forge\n",
            "    mpfr-4.2.0                 |       hb012696_0         616 KB  conda-forge\n",
            "    nomkl-1.0                  |       h5ca1d4c_0           4 KB  conda-forge\n",
            "    numba-0.57.1               |  py310h0f6aa51_0         4.0 MB  conda-forge\n",
            "    numexpr-2.8.4              |py310h690d005_100         126 KB  conda-forge\n",
            "    numpy-1.21.6               |  py310h45f3432_0         6.2 MB  conda-forge\n",
            "    openssl-3.1.1              |       hd590300_1         2.5 MB  conda-forge\n",
            "    packaging-23.1             |     pyhd8ed1ab_0          45 KB  conda-forge\n",
            "    platformdirs-3.8.0         |     pyhd8ed1ab_0          19 KB  conda-forge\n",
            "    pooch-1.7.0                |     pyha770c72_3          50 KB  conda-forge\n",
            "    quspin-0.3.7               |  py310h36496fc_0        20.6 MB  weinbe58\n",
            "    scipy-1.11.1               |  py310ha4c1d20_0        14.5 MB  conda-forge\n",
            "    six-1.16.0                 |     pyh6c4a22f_0          14 KB  conda-forge\n",
            "    typing-extensions-4.7.1    |       hd8ed1ab_0          10 KB  conda-forge\n",
            "    typing_extensions-4.7.1    |     pyha770c72_0          35 KB  conda-forge\n",
            "    ------------------------------------------------------------\n",
            "                                           Total:       725.2 MB\n",
            "\n",
            "The following NEW packages will be INSTALLED:\n",
            "\n",
            "  cudatoolkit        conda-forge/linux-64::cudatoolkit-11.8.0-h37601d7_11 \n",
            "  dill               conda-forge/noarch::dill-0.3.6-pyhd8ed1ab_1 \n",
            "  gmp                conda-forge/linux-64::gmp-6.2.1-h58526e2_0 \n",
            "  gmpy2              conda-forge/linux-64::gmpy2-2.1.2-py310h3ec546c_1 \n",
            "  joblib             conda-forge/noarch::joblib-1.3.0-pyhd8ed1ab_1 \n",
            "  libblas            conda-forge/linux-64::libblas-3.9.0-17_linux64_openblas \n",
            "  libcblas           conda-forge/linux-64::libcblas-3.9.0-17_linux64_openblas \n",
            "  libgfortran-ng     conda-forge/linux-64::libgfortran-ng-13.1.0-h69a702a_0 \n",
            "  libgfortran5       conda-forge/linux-64::libgfortran5-13.1.0-h15d22d2_0 \n",
            "  liblapack          conda-forge/linux-64::liblapack-3.9.0-17_linux64_openblas \n",
            "  libllvm14          conda-forge/linux-64::libllvm14-14.0.6-hcd5def8_3 \n",
            "  libopenblas        conda-forge/linux-64::libopenblas-0.3.23-pthreads_h80387f5_0 \n",
            "  llvmlite           conda-forge/linux-64::llvmlite-0.40.1-py310h1b8f574_0 \n",
            "  mpc                conda-forge/linux-64::mpc-1.3.1-hfe3b2da_0 \n",
            "  mpfr               conda-forge/linux-64::mpfr-4.2.0-hb012696_0 \n",
            "  nomkl              conda-forge/noarch::nomkl-1.0-h5ca1d4c_0 \n",
            "  numba              conda-forge/linux-64::numba-0.57.1-py310h0f6aa51_0 \n",
            "  numexpr            conda-forge/linux-64::numexpr-2.8.4-py310h690d005_100 \n",
            "  numpy              conda-forge/linux-64::numpy-1.21.6-py310h45f3432_0 \n",
            "  packaging          conda-forge/noarch::packaging-23.1-pyhd8ed1ab_0 \n",
            "  platformdirs       conda-forge/noarch::platformdirs-3.8.0-pyhd8ed1ab_0 \n",
            "  pooch              conda-forge/noarch::pooch-1.7.0-pyha770c72_3 \n",
            "  quspin             weinbe58/linux-64::quspin-0.3.7-py310h36496fc_0 \n",
            "  scipy              conda-forge/linux-64::scipy-1.11.1-py310ha4c1d20_0 \n",
            "  six                conda-forge/noarch::six-1.16.0-pyh6c4a22f_0 \n",
            "  typing-extensions  conda-forge/noarch::typing-extensions-4.7.1-hd8ed1ab_0 \n",
            "  typing_extensions  conda-forge/noarch::typing_extensions-4.7.1-pyha770c72_0 \n",
            "\n",
            "The following packages will be UPDATED:\n",
            "\n",
            "  ca-certificates                      2022.12.7-ha878542_0 --> 2023.5.7-hbcca054_0 \n",
            "  certifi                            2022.12.7-pyhd8ed1ab_0 --> 2023.5.7-pyhd8ed1ab_0 \n",
            "  openssl                                  3.1.0-h0b41bf4_0 --> 3.1.1-hd590300_1 \n",
            "\n",
            "\n",
            "Preparing transaction: ...working... done\n",
            "Verifying transaction: ...working... done\n",
            "Executing transaction: ...working... By downloading and using the CUDA Toolkit conda packages, you accept the terms and conditions of the CUDA End User License Agreement (EULA): https://docs.nvidia.com/cuda/eula/index.html\n",
            "\n",
            "done\n"
          ]
        }
      ],
      "source": [
        "!pip install -q condacolab\n",
        "import condacolab\n",
        "condacolab.install()\n",
        "!conda install -q -y -c weinbe58 quspin"
      ]
    },
    {
      "cell_type": "code",
      "source": [
        "from quspin.operators import hamiltonian\n",
        "from quspin.basis import spin_basis_1d\n",
        "import numpy as np # general math functions\n",
        "import scipy.sparse.linalg\n",
        "import matplotlib.pyplot as plt"
      ],
      "metadata": {
        "id": "80FF0zbOqBDt"
      },
      "execution_count": null,
      "outputs": []
    },
    {
      "cell_type": "code",
      "source": [
        "def calc_gs(gzxz,gzz,gx,L):\n",
        "#    basis = spin_basis_1d(L=L,Nup==L//2,a=1,pauli=1,kblock=0,pblock=1)\n",
        "    basis = spin_basis_1d(L=L,a=1,pauli=1)\n",
        "    gzxzs =[[+gzxz,(i-1)%L,i,(i+1)%L] for i in range(L)]\n",
        "    gzzs =[[-gzz,i,(i+1)%L] for i in range(L)]\n",
        "    gxs = [[-gx,i] for i in range(L)]\n",
        "    static = [[\"zxz\",gzxzs],[\"zz\",gzzs],[\"x\",gxs]]\n",
        "    no_checks = dict(check_symm=False, check_pcon=False, check_herm=False)\n",
        "    H = hamiltonian(static,[],static_fmt=\"csr\",basis=basis,dtype=np.float64,**no_checks)\n",
        "    ene, vec = H.eigsh(time=0.0,which=\"SA\",k=2)\n",
        "    vec = vec[:,0]\n",
        "    return ene, vec"
      ],
      "metadata": {
        "id": "xDHrAyWSpdY8"
      },
      "execution_count": null,
      "outputs": []
    },
    {
      "cell_type": "code",
      "source": [
        "def main(L):\n",
        "#    args = parse_args()\n",
        "#    L = args.L\n",
        "#    gzxz = args.gzxz\n",
        "#    gzz = args.gzz\n",
        "#    gx = args.gx\n",
        "    dat = []\n",
        "    gs = np.linspace(-1,1,33)\n",
        "    for g in gs:\n",
        "        gzxz = (g-1)**2\n",
        "        gzz = 2*(1-g**2)\n",
        "        gx = (1+g)**2\n",
        "        ene, vec = calc_gs(gzxz,gzz,gx,L)\n",
        "        print(g,*ene/L,vec)\n",
        "        dat.append([g,*ene/L])\n",
        "        #print(vec)\n",
        "#    np.savetxt(\"dat_L\"+\"{}\".format(L),dat)\n",
        "    return np.array(dat)"
      ],
      "metadata": {
        "id": "mCJXGozxplB4"
      },
      "execution_count": null,
      "outputs": []
    },
    {
      "cell_type": "code",
      "source": [
        "L = 10\n",
        "dat = main(L)"
      ],
      "metadata": {
        "colab": {
          "base_uri": "https://localhost:8080/"
        },
        "id": "Y2RME-REp3HI",
        "outputId": "bb76cb66-93c3-4a34-9d66-f5fa3bf378ff"
      },
      "execution_count": null,
      "outputs": [
        {
          "output_type": "stream",
          "name": "stdout",
          "text": [
            "-1.0 -3.999999999999998 -3.200000000000002 [ 0.03125 -0.03125 -0.03125 ... -0.03125 -0.03125  0.03125]\n",
            "-0.9375 -3.757812499999999 -3.0546875000000044 [-0.03662616  0.03433703  0.03433703 ...  0.03433703  0.03433703\n",
            " -0.03662616]\n",
            "-0.875 -3.531249999999999 -2.9187500000000037 [-0.04315128  0.03775737  0.03775737 ...  0.03775737  0.03775737\n",
            " -0.04315128]\n",
            "-0.8125 -3.320312499999998 -2.7921874999999945 [ 0.05112225 -0.04153682 -0.04153682 ... -0.04153682 -0.04153682\n",
            "  0.05112225]\n",
            "-0.75 -3.125000000000006 -2.6750000000000083 [ 0.06092699 -0.04569525 -0.04569525 ... -0.04569525 -0.04569525\n",
            "  0.06092699]\n",
            "-0.6875 -2.9453124999999973 -2.5671874999999895 [-0.07307706  0.05024048  0.05024048 ...  0.05024048  0.05024048\n",
            " -0.07307706]\n",
            "-0.625 -2.781250000000001 -2.46875 [ 0.08825373 -0.05515858 -0.05515858 ... -0.05515858 -0.05515858\n",
            "  0.08825373]\n",
            "-0.5625 -2.632812500000001 -2.3796875000000024 [-0.10737402  0.06039789  0.06039789 ...  0.06039789  0.06039789\n",
            " -0.10737402]\n",
            "-0.5 -2.5 -2.3000000000000065 [-0.13168613  0.06584306  0.06584306 ...  0.06584306  0.06584306\n",
            " -0.13168613]\n",
            "-0.4375 -2.382812499999999 -2.2296875000000003 [-0.16290802  0.07127226  0.07127226 ...  0.07127226  0.07127226\n",
            " -0.16290802]\n",
            "-0.375 -2.2812500000000004 -2.168750000000006 [-0.20342521  0.07628445  0.07628445 ...  0.07628445  0.07628445\n",
            " -0.20342521]\n",
            "-0.3125 -2.195312499999995 -2.11718749999999 [ 0.25654647 -0.08017077 -0.08017077 ... -0.08017077 -0.08017077\n",
            "  0.25654647]\n",
            "-0.25 -2.1249999999999982 -2.0749999999999913 [ 0.32669379 -0.08167345 -0.08167345 ... -0.08167345 -0.08167345\n",
            "  0.32669379]\n",
            "-0.1875 -2.0703125000000027 -2.0421875000000016 [-0.41879683  0.07852441  0.07852441 ...  0.07852441  0.07852441\n",
            " -0.41879683]\n",
            "-0.125 -2.031249999999994 -2.01875 [ 0.53373036 -0.06671629 -0.06671629 ... -0.06671629 -0.06671629\n",
            "  0.53373036]\n",
            "-0.0625 -2.0078124999999947 -2.0046875 [ 0.65122107 -0.04070132 -0.04070132 ... -0.04070132 -0.04070132\n",
            "  0.65122107]\n",
            "0.0 -2.000000000000006 -1.999999999999999 [-2.52434910e-01 -4.09030867e-16 -2.88905273e-16 ...  3.65060772e-16\n",
            "  3.57451932e-16  9.67613878e-01]\n",
            "0.0625 -2.0078124999999982 -2.0046874999999984 [-0.65122107 -0.04070132 -0.04070132 ... -0.04070132 -0.04070132\n",
            " -0.65122107]\n",
            "0.125 -2.031249999999997 -2.018749999999998 [-0.53373036 -0.06671629 -0.06671629 ... -0.06671629 -0.06671629\n",
            " -0.53373036]\n",
            "0.1875 -2.0703124999999987 -2.042187499999999 [0.41879683 0.07852441 0.07852441 ... 0.07852441 0.07852441 0.41879683]\n",
            "0.25 -2.125000000000006 -2.0750000000000033 [-0.32669379 -0.08167345 -0.08167345 ... -0.08167345 -0.08167345\n",
            " -0.32669379]\n",
            "0.3125 -2.195312499999998 -2.117187500000004 [0.25654647 0.08017077 0.08017077 ... 0.08017077 0.08017077 0.25654647]\n",
            "0.375 -2.2812500000000013 -2.1687499999999984 [-0.20342521 -0.07628445 -0.07628445 ... -0.07628445 -0.07628445\n",
            " -0.20342521]\n",
            "0.4375 -2.3828125000000013 -2.229687500000003 [-0.16290802 -0.07127226 -0.07127226 ... -0.07127226 -0.07127226\n",
            " -0.16290802]\n",
            "0.5 -2.5000000000000013 -2.3000000000000034 [0.13168613 0.06584306 0.06584306 ... 0.06584306 0.06584306 0.13168613]\n",
            "0.5625 -2.632812499999998 -2.379687499999996 [-0.10737402 -0.06039789 -0.06039789 ... -0.06039789 -0.06039789\n",
            " -0.10737402]\n",
            "0.625 -2.7812499999999987 -2.468750000000009 [-0.08825373 -0.05515858 -0.05515858 ... -0.05515858 -0.05515858\n",
            " -0.08825373]\n",
            "0.6875 -2.945312500000001 -2.567187499999994 [-0.07307706 -0.05024048 -0.05024048 ... -0.05024048 -0.05024048\n",
            " -0.07307706]\n",
            "0.75 -3.125 -2.6749999999999985 [0.06092699 0.04569525 0.04569525 ... 0.04569525 0.04569525 0.06092699]\n",
            "0.8125 -3.3203124999999964 -2.7921874999999927 [-0.05112225 -0.04153682 -0.04153682 ... -0.04153682 -0.04153682\n",
            " -0.05112225]\n",
            "0.875 -3.5312500000000027 -2.918750000000013 [-0.04315128 -0.03775737 -0.03775737 ... -0.03775737 -0.03775737\n",
            " -0.04315128]\n",
            "0.9375 -3.7578124999999987 -3.054687500000001 [0.03662616 0.03433703 0.03433703 ... 0.03433703 0.03433703 0.03662616]\n",
            "1.0 -4.0 -3.2000000000000006 [-0.03125 -0.03125 -0.03125 ... -0.03125 -0.03125 -0.03125]\n"
          ]
        }
      ]
    },
    {
      "cell_type": "code",
      "source": [
        "def ene_exact(x):\n",
        "  return -2*(x**2+1)\n",
        "xx = np.linspace(-1,1,257)\n",
        "yy = ene_exact(xx)\n",
        "\n",
        "plt.grid()\n",
        "plt.xlabel(r\"$g$\")\n",
        "plt.ylabel(r\"energy density\")\n",
        "plt.plot(dat[:,0],dat[:,1],\"o\",label=r\"ED, $L=10$\")\n",
        "plt.plot(xx,yy,\"-\",label=r\"exact\")\n",
        "plt.legend()\n",
        "plt.show()\n",
        "plt.close()"
      ],
      "metadata": {
        "colab": {
          "base_uri": "https://localhost:8080/",
          "height": 450
        },
        "id": "4I9FgOLpp8UI",
        "outputId": "a8d58973-09b9-4b58-c7e8-490cd0691d9b"
      },
      "execution_count": null,
      "outputs": [
        {
          "output_type": "display_data",
          "data": {
            "text/plain": [
              "<Figure size 640x480 with 1 Axes>"
            ],
            "image/png": "[encoded data removed]"
          },
          "metadata": {}
        }
      ]
    },
    {
      "cell_type": "code",
      "source": [],
      "metadata": {
        "id": "3-HzX0Vkq5fI"
      },
      "execution_count": null,
      "outputs": []
    }
  ]
}